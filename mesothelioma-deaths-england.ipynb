{
 "cells": [
  {
   "cell_type": "markdown",
   "metadata": {},
   "source": [
    "# Mesothelioma Related Deaths in England (1968-2021)"
   ]
  },
  {
   "cell_type": "markdown",
   "metadata": {},
   "source": [
    "## The Dataset"
   ]
  },
  {
   "cell_type": "code",
   "execution_count": 48,
   "metadata": {},
   "outputs": [
    {
     "data": {
      "text/html": [
       "<div>\n",
       "<style scoped>\n",
       "    .dataframe tbody tr th:only-of-type {\n",
       "        vertical-align: middle;\n",
       "    }\n",
       "\n",
       "    .dataframe tbody tr th {\n",
       "        vertical-align: top;\n",
       "    }\n",
       "\n",
       "    .dataframe thead th {\n",
       "        text-align: right;\n",
       "    }\n",
       "</style>\n",
       "<table border=\"1\" class=\"dataframe\">\n",
       "  <thead>\n",
       "    <tr style=\"text-align: right;\">\n",
       "      <th></th>\n",
       "      <th>Year</th>\n",
       "      <th>GSS ID</th>\n",
       "      <th>Region</th>\n",
       "      <th>Gender</th>\n",
       "      <th>Mesothelioma Death Recorded</th>\n",
       "    </tr>\n",
       "  </thead>\n",
       "  <tbody>\n",
       "    <tr>\n",
       "      <th>0</th>\n",
       "      <td>1968</td>\n",
       "      <td>E12000001</td>\n",
       "      <td>North East</td>\n",
       "      <td>Male</td>\n",
       "      <td>11</td>\n",
       "    </tr>\n",
       "    <tr>\n",
       "      <th>1</th>\n",
       "      <td>1969</td>\n",
       "      <td>E12000001</td>\n",
       "      <td>North East</td>\n",
       "      <td>Male</td>\n",
       "      <td>9</td>\n",
       "    </tr>\n",
       "    <tr>\n",
       "      <th>2</th>\n",
       "      <td>1970</td>\n",
       "      <td>E12000001</td>\n",
       "      <td>North East</td>\n",
       "      <td>Male</td>\n",
       "      <td>14</td>\n",
       "    </tr>\n",
       "    <tr>\n",
       "      <th>3</th>\n",
       "      <td>1971</td>\n",
       "      <td>E12000001</td>\n",
       "      <td>North East</td>\n",
       "      <td>Male</td>\n",
       "      <td>9</td>\n",
       "    </tr>\n",
       "    <tr>\n",
       "      <th>4</th>\n",
       "      <td>1972</td>\n",
       "      <td>E12000001</td>\n",
       "      <td>North East</td>\n",
       "      <td>Male</td>\n",
       "      <td>18</td>\n",
       "    </tr>\n",
       "  </tbody>\n",
       "</table>\n",
       "</div>"
      ],
      "text/plain": [
       "   Year     GSS ID      Region Gender  Mesothelioma Death Recorded\n",
       "0  1968  E12000001  North East   Male                           11\n",
       "1  1969  E12000001  North East   Male                            9\n",
       "2  1970  E12000001  North East   Male                           14\n",
       "3  1971  E12000001  North East   Male                            9\n",
       "4  1972  E12000001  North East   Male                           18"
      ]
     },
     "metadata": {},
     "output_type": "display_data"
    }
   ],
   "source": [
    "import pandas as pd\n",
    "import numpy as np\n",
    "\n",
    "# Reading the dataset and storing at variabel meso_deaths\n",
    "meso_deaths = pd.read_csv('./dataset/Mesothelioma_Deaths_in_England_1968_2021.csv')\n",
    "display(meso_deaths.head())"
   ]
  },
  {
   "cell_type": "markdown",
   "metadata": {},
   "source": [
    "Note: the data in the dataset is already well inserted - thanks to Kaggle -, so there will be no need for dropping null values or treating NaN, for example"
   ]
  },
  {
   "cell_type": "code",
   "execution_count": 49,
   "metadata": {},
   "outputs": [],
   "source": [
    "# Copying the dataset to X so it can be used without modifying the original one\n",
    "X = meso_deaths.copy()\n",
    "\n",
    "# Getting the target into y\n",
    "y = X.pop('Mesothelioma Death Recorded')"
   ]
  },
  {
   "cell_type": "code",
   "execution_count": 50,
   "metadata": {},
   "outputs": [
    {
     "name": "stdout",
     "output_type": "stream",
     "text": [
      "(453, 21)\n"
     ]
    }
   ],
   "source": [
    "from sklearn.preprocessing import StandardScaler, OneHotEncoder\n",
    "from sklearn.compose import make_column_transformer\n",
    "from sklearn.model_selection import train_test_split\n",
    "\n",
    "# Separating categorical features from numerical features\n",
    "features_cat = ['GSS ID', 'Region', 'Gender']\n",
    "features_num = ['Year']\n",
    "\n",
    "# Preprocessing\n",
    "preprocessor = make_column_transformer(\n",
    "    (StandardScaler(), features_num),\n",
    "    (OneHotEncoder(), features_cat),\n",
    ")\n",
    "\n",
    "# Splitting the data into test and train\n",
    "X_train, X_valid, y_train, y_valid = train_test_split(X, y, test_size=0.4, random_state=0)\n",
    "\n",
    "# Using preprocessor\n",
    "X_train = preprocessor.fit_transform(X_train).toarray()\n",
    "X_valid = preprocessor.transform(X_valid).toarray()\n",
    "\n",
    "# Getting the input_shape\n",
    "input_shape = [X_train.shape[1]]\n",
    "print(X_train.shape)"
   ]
  },
  {
   "cell_type": "markdown",
   "metadata": {},
   "source": [
    "## The Model"
   ]
  },
  {
   "cell_type": "markdown",
   "metadata": {},
   "source": [
    "#### Making a linear model and plotting its results"
   ]
  },
  {
   "cell_type": "code",
   "execution_count": 56,
   "metadata": {},
   "outputs": [
    {
     "name": "stdout",
     "output_type": "stream",
     "text": [
      "Minimum Validation Loss: 44.0043\n"
     ]
    },
    {
     "data": {
      "image/png": "[encoded data removed]",
      "text/plain": [
       "<Figure size 640x480 with 1 Axes>"
      ]
     },
     "metadata": {},
     "output_type": "display_data"
    }
   ],
   "source": [
    "from tensorflow import keras\n",
    "from tensorflow.keras import layers\n",
    "\n",
    "# Creating the model\n",
    "model = keras.Sequential([\n",
    "    layers.Dense(1, input_shape=input_shape)\n",
    "])\n",
    "\n",
    "# Compiling the model - adam algorithm for optimizer and mae (mean absolute error) for loss value\n",
    "model.compile(\n",
    "    optimizer='adam',\n",
    "    loss='mae',\n",
    ")\n",
    "\n",
    "# fitting the model\n",
    "history = model.fit(\n",
    "    X_train, y_train,\n",
    "    validation_data=(X_valid, y_valid),\n",
    "    batch_size=2,\n",
    "    epochs=200,\n",
    "    verbose=0\n",
    ")\n",
    "\n",
    "# Creating a DataFrame with history so it can be plottable\n",
    "history_df = pd.DataFrame(history.history) # the model saves the history into history\n",
    "\n",
    "# Plots the graph for loss and validation loss\n",
    "history_df.loc[100:, ['loss', 'val_loss']].plot()\n",
    "\n",
    "# Prints the minimuim achieved for validation loss so the analyses of underfitting or overfitting can be done\n",
    "print('Minimum Validation Loss: {:0.4f}'.format(history_df['val_loss'].min()))"
   ]
  },
  {
   "cell_type": "markdown",
   "metadata": {},
   "source": [
    "The curves are with a big gap between them and the loss validation curve is above the loss curve. It can be a symptom of overfitting, so let's try with more capacity - e.g adding more layers to the model."
   ]
  },
  {
   "cell_type": "code",
   "execution_count": 60,
   "metadata": {},
   "outputs": [
    {
     "name": "stdout",
     "output_type": "stream",
     "text": [
      "Epoch 1/50\n",
      "227/227 [==============================] - 2s 5ms/step - loss: 53.6755 - val_loss: 35.8181\n",
      "Epoch 2/50\n",
      "227/227 [==============================] - 1s 4ms/step - loss: 22.6590 - val_loss: 19.2412\n",
      "Epoch 3/50\n",
      "227/227 [==============================] - 1s 4ms/step - loss: 15.7538 - val_loss: 16.0115\n",
      "Epoch 4/50\n",
      "227/227 [==============================] - 1s 3ms/step - loss: 13.3692 - val_loss: 14.3132\n",
      "Epoch 5/50\n",
      "227/227 [==============================] - 1s 3ms/step - loss: 12.0439 - val_loss: 13.4454\n",
      "Epoch 6/50\n",
      "227/227 [==============================] - 1s 3ms/step - loss: 11.0552 - val_loss: 12.5258\n",
      "Epoch 7/50\n",
      "227/227 [==============================] - 1s 4ms/step - loss: 10.3643 - val_loss: 11.5348\n",
      "Epoch 8/50\n",
      "227/227 [==============================] - 1s 3ms/step - loss: 9.6158 - val_loss: 11.1186\n",
      "Epoch 9/50\n",
      "227/227 [==============================] - 1s 5ms/step - loss: 9.5686 - val_loss: 11.8150\n",
      "Epoch 10/50\n",
      "227/227 [==============================] - 1s 3ms/step - loss: 8.9785 - val_loss: 11.3860\n",
      "Epoch 11/50\n",
      "227/227 [==============================] - 1s 4ms/step - loss: 8.7351 - val_loss: 10.0191\n",
      "Epoch 12/50\n",
      "227/227 [==============================] - 1s 3ms/step - loss: 8.4559 - val_loss: 9.5555\n",
      "Epoch 13/50\n",
      "227/227 [==============================] - 1s 3ms/step - loss: 8.1454 - val_loss: 10.8273\n",
      "Epoch 14/50\n",
      "227/227 [==============================] - 1s 3ms/step - loss: 7.9653 - val_loss: 10.7490\n",
      "Epoch 15/50\n",
      "227/227 [==============================] - 1s 3ms/step - loss: 7.5354 - val_loss: 8.7551\n",
      "Epoch 16/50\n",
      "227/227 [==============================] - 1s 4ms/step - loss: 7.2855 - val_loss: 9.5314\n",
      "Epoch 17/50\n",
      "227/227 [==============================] - 1s 4ms/step - loss: 7.6425 - val_loss: 9.5863\n",
      "Epoch 18/50\n",
      "227/227 [==============================] - 1s 3ms/step - loss: 7.3704 - val_loss: 9.1966\n",
      "Epoch 19/50\n",
      "227/227 [==============================] - 1s 4ms/step - loss: 7.5378 - val_loss: 8.5547\n",
      "Epoch 20/50\n",
      "227/227 [==============================] - 1s 4ms/step - loss: 7.2543 - val_loss: 8.5945\n",
      "Epoch 21/50\n",
      "227/227 [==============================] - 1s 3ms/step - loss: 6.9930 - val_loss: 8.6019\n",
      "Epoch 22/50\n",
      "227/227 [==============================] - 1s 3ms/step - loss: 7.2815 - val_loss: 8.4194\n",
      "Epoch 23/50\n",
      "227/227 [==============================] - 1s 3ms/step - loss: 7.1805 - val_loss: 8.2122\n",
      "Epoch 24/50\n",
      "227/227 [==============================] - 1s 3ms/step - loss: 7.1419 - val_loss: 8.8050\n",
      "Epoch 25/50\n",
      "227/227 [==============================] - 1s 4ms/step - loss: 7.0807 - val_loss: 8.0493\n",
      "Epoch 26/50\n",
      "227/227 [==============================] - 1s 3ms/step - loss: 6.9465 - val_loss: 10.2038\n",
      "Epoch 27/50\n",
      "227/227 [==============================] - 1s 3ms/step - loss: 6.9898 - val_loss: 8.0179\n",
      "Epoch 28/50\n",
      "227/227 [==============================] - 1s 3ms/step - loss: 6.8498 - val_loss: 8.5407\n",
      "Epoch 29/50\n",
      "227/227 [==============================] - 1s 3ms/step - loss: 6.8525 - val_loss: 8.3327\n",
      "Epoch 30/50\n",
      "227/227 [==============================] - 1s 4ms/step - loss: 6.8028 - val_loss: 7.7331\n",
      "Epoch 31/50\n",
      "227/227 [==============================] - 1s 3ms/step - loss: 6.6111 - val_loss: 8.0207\n",
      "Epoch 32/50\n",
      "227/227 [==============================] - 1s 3ms/step - loss: 7.0006 - val_loss: 7.7075\n",
      "Epoch 33/50\n",
      "227/227 [==============================] - 1s 3ms/step - loss: 6.8672 - val_loss: 7.8130\n",
      "Epoch 34/50\n",
      "227/227 [==============================] - 1s 3ms/step - loss: 6.8495 - val_loss: 8.5809\n",
      "Epoch 35/50\n",
      "227/227 [==============================] - 1s 4ms/step - loss: 6.6356 - val_loss: 7.8180\n",
      "Epoch 36/50\n",
      "227/227 [==============================] - 1s 3ms/step - loss: 6.8353 - val_loss: 7.7804\n",
      "Epoch 37/50\n",
      "227/227 [==============================] - 1s 3ms/step - loss: 6.6846 - val_loss: 7.8947\n",
      "Epoch 38/50\n",
      "227/227 [==============================] - 1s 3ms/step - loss: 6.5931 - val_loss: 8.9700\n",
      "Epoch 39/50\n",
      "227/227 [==============================] - 1s 4ms/step - loss: 6.7432 - val_loss: 7.8437\n",
      "Epoch 40/50\n",
      "227/227 [==============================] - 1s 4ms/step - loss: 6.7818 - val_loss: 7.5641\n",
      "Epoch 41/50\n",
      "227/227 [==============================] - 1s 3ms/step - loss: 6.6525 - val_loss: 7.8831\n",
      "Epoch 42/50\n",
      "227/227 [==============================] - 1s 3ms/step - loss: 6.7268 - val_loss: 8.3561\n",
      "Epoch 43/50\n",
      "227/227 [==============================] - 1s 3ms/step - loss: 6.5172 - val_loss: 7.9724\n",
      "Epoch 44/50\n",
      "227/227 [==============================] - 1s 4ms/step - loss: 6.4140 - val_loss: 7.7280\n",
      "Epoch 45/50\n",
      "227/227 [==============================] - 1s 3ms/step - loss: 6.3959 - val_loss: 8.1850\n",
      "Epoch 46/50\n",
      "227/227 [==============================] - 1s 3ms/step - loss: 6.5343 - val_loss: 8.2940\n",
      "Epoch 47/50\n",
      "227/227 [==============================] - 1s 3ms/step - loss: 6.5297 - val_loss: 9.2253\n",
      "Epoch 48/50\n",
      "227/227 [==============================] - 1s 3ms/step - loss: 6.5155 - val_loss: 8.1147\n",
      "Epoch 49/50\n",
      "227/227 [==============================] - 1s 4ms/step - loss: 6.4436 - val_loss: 7.6000\n",
      "Epoch 50/50\n",
      "227/227 [==============================] - 1s 3ms/step - loss: 6.5142 - val_loss: 7.4235\n",
      "Minimum Validtaion Loss: 7.4235\n"
     ]
    },
    {
     "data": {
      "image/png": "[encoded data removed]",
      "text/plain": [
       "<Figure size 640x480 with 1 Axes>"
      ]
     },
     "metadata": {},
     "output_type": "display_data"
    }
   ],
   "source": [
    "model = keras.Sequential([\n",
    "    layers.Dense(128, activation='relu', input_shape=input_shape),\n",
    "    layers.Dense(64, activation='relu'),\n",
    "    layers.Dense(1)\n",
    "])\n",
    "\n",
    "model.compile(\n",
    "    optimizer='adam',\n",
    "    loss='mae'\n",
    ")\n",
    "\n",
    "history = model.fit(\n",
    "    X_train, y_train,\n",
    "    validation_data=(X_valid, y_valid),\n",
    "    batch_size=2,\n",
    "    epochs=50\n",
    ")\n",
    "\n",
    "history_df = pd.DataFrame(history.history)\n",
    "history_df.loc[:, ['loss', 'val_loss']].plot()\n",
    "print('Minimum Validtaion Loss: {:0.4f}'.format(history_df['val_loss'].min()))"
   ]
  },
  {
   "cell_type": "markdown",
   "metadata": {},
   "source": [
    "Turns out that the model did pretty well with this setup, the validation loss curve maintains itself above the loss curve, and pretty close. I good thing to implement here would be an Early Stopping. "
   ]
  },
  {
   "cell_type": "markdown",
   "metadata": {},
   "source": []
  }
 ],
 "metadata": {
  "kernelspec": {
   "display_name": "Python 3",
   "language": "python",
   "name": "python3"
  },
  "language_info": {
   "codemirror_mode": {
    "name": "ipython",
    "version": 3
   },
   "file_extension": ".py",
   "mimetype": "text/x-python",
   "name": "python",
   "nbconvert_exporter": "python",
   "pygments_lexer": "ipython3",
   "version": "3.10.6"
  },
  "orig_nbformat": 4
 },
 "nbformat": 4,
 "nbformat_minor": 2
}
